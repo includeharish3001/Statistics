{
 "cells": [
  {
   "cell_type": "code",
   "execution_count": 1,
   "metadata": {},
   "outputs": [],
   "source": [
    "import numpy as np"
   ]
  },
  {
   "cell_type": "code",
   "execution_count": 2,
   "metadata": {},
   "outputs": [],
   "source": [
    "population =np.random.randn(100)"
   ]
  },
  {
   "cell_type": "code",
   "execution_count": 3,
   "metadata": {},
   "outputs": [
    {
     "data": {
      "text/plain": [
       "array([ 8.47486357e-01,  2.32456398e-01, -6.22991912e-01,  3.03303557e-01,\n",
       "       -1.51230587e+00,  7.49261669e-01,  4.13644291e-01,  1.06763068e+00,\n",
       "       -2.71301116e-01, -7.40209815e-01,  4.91746387e-01, -3.55389058e-01,\n",
       "       -1.42143017e+00, -1.80432359e+00,  1.80826002e+00, -5.55870592e-02,\n",
       "       -5.56033920e-01,  1.12589984e+00,  2.28689003e-01,  4.05988816e-01,\n",
       "       -1.98197578e+00,  2.70193613e-01, -2.61768349e-03, -2.73728016e+00,\n",
       "        9.19621525e-01, -7.31805788e-01, -1.08315307e+00, -1.21786694e+00,\n",
       "       -9.30879845e-01,  8.28518564e-01,  1.83772410e-02,  6.85473591e-01,\n",
       "        2.70914070e+00, -2.05439498e+00,  9.64245609e-01,  1.30373475e+00,\n",
       "        1.57373985e+00, -1.44091894e-02,  1.49135711e+00,  1.42326267e+00,\n",
       "       -2.11335716e-01, -4.35645942e-01,  9.02687852e-01,  7.76954727e-01,\n",
       "       -5.18660231e-01, -1.12524441e+00,  7.71002607e-01,  4.67174531e-01,\n",
       "        3.47251115e-01, -6.54089249e-01, -2.38051607e-01, -1.64856967e-01,\n",
       "        1.25019423e+00,  3.55494847e-01,  6.31228615e-01,  1.01598932e+00,\n",
       "       -6.90908443e-01,  1.20299459e+00, -8.91686816e-01, -3.59250627e-01,\n",
       "       -3.53548592e-01, -1.92511412e+00, -1.22082923e+00, -4.16054233e-01,\n",
       "        2.39899518e-01,  1.69279869e-01,  1.99767624e-01,  2.22594069e-01,\n",
       "       -1.06370227e-01, -1.21867520e+00, -8.93736622e-01, -7.80346346e-03,\n",
       "        2.00772004e+00, -2.13327023e-01, -1.12970561e+00,  1.44570709e+00,\n",
       "        3.75641579e-01,  1.47269294e+00, -4.79610715e-02, -1.03164121e+00,\n",
       "       -4.57509903e-01,  1.18974311e+00,  1.19008394e+00, -6.11312389e-01,\n",
       "        7.19956003e-01,  7.99325929e-02,  9.66698933e-03, -7.92817262e-01,\n",
       "       -2.21526731e-01, -1.71132480e+00,  1.50492337e+00, -9.39893302e-01,\n",
       "       -2.04389543e-01,  4.08653054e-01,  1.29238314e+00, -6.49561416e-01,\n",
       "        6.88112614e-01, -1.06292154e+00,  6.37895837e-01, -8.30169958e-01])"
      ]
     },
     "execution_count": 3,
     "metadata": {},
     "output_type": "execute_result"
    }
   ],
   "source": [
    "population"
   ]
  },
  {
   "cell_type": "code",
   "execution_count": 4,
   "metadata": {},
   "outputs": [],
   "source": [
    "sample = np.random.choice(population, 20)"
   ]
  },
  {
   "cell_type": "code",
   "execution_count": 5,
   "metadata": {},
   "outputs": [
    {
     "data": {
      "text/plain": [
       "array([-1.21786694,  1.42326267,  0.19976762, -0.05558706,  0.77695473,\n",
       "        0.40598882, -1.42143017,  1.19008394, -0.27130112,  0.27019361,\n",
       "        1.47269294,  0.37564158,  2.7091407 ,  0.68811261,  0.77695473,\n",
       "        2.00772004,  0.37564158,  0.228689  , -2.73728016,  0.01837724])"
      ]
     },
     "execution_count": 5,
     "metadata": {},
     "output_type": "execute_result"
    }
   ],
   "source": [
    "sample"
   ]
  },
  {
   "cell_type": "markdown",
   "metadata": {},
   "source": [
    "# Variance"
   ]
  },
  {
   "cell_type": "code",
   "execution_count": 6,
   "metadata": {},
   "outputs": [
    {
     "data": {
      "text/plain": [
       "1.0025607401341166"
      ]
     },
     "execution_count": 6,
     "metadata": {},
     "output_type": "execute_result"
    }
   ],
   "source": [
    "#variance of the population\n",
    "np.var(population)"
   ]
  },
  {
   "cell_type": "code",
   "execution_count": 7,
   "metadata": {},
   "outputs": [
    {
     "data": {
      "text/plain": [
       "1.387214597652338"
      ]
     },
     "execution_count": 7,
     "metadata": {},
     "output_type": "execute_result"
    }
   ],
   "source": [
    "#variance of the sample\n",
    "np.var(sample)"
   ]
  },
  {
   "cell_type": "markdown",
   "metadata": {},
   "source": [
    "# Standard Deviation"
   ]
  },
  {
   "cell_type": "code",
   "execution_count": 8,
   "metadata": {},
   "outputs": [
    {
     "data": {
      "text/plain": [
       "1.001279551441113"
      ]
     },
     "execution_count": 8,
     "metadata": {},
     "output_type": "execute_result"
    }
   ],
   "source": [
    "#standad deviation of the population\n",
    "np.std(population)"
   ]
  },
  {
   "cell_type": "code",
   "execution_count": 9,
   "metadata": {},
   "outputs": [
    {
     "data": {
      "text/plain": [
       "1.1778007461588476"
      ]
     },
     "execution_count": 9,
     "metadata": {},
     "output_type": "execute_result"
    }
   ],
   "source": [
    "np.std(sample)"
   ]
  },
  {
   "cell_type": "markdown",
   "metadata": {},
   "source": [
    "# Range"
   ]
  },
  {
   "cell_type": "code",
   "execution_count": 10,
   "metadata": {},
   "outputs": [
    {
     "data": {
      "text/plain": [
       "5.446420860768967"
      ]
     },
     "execution_count": 10,
     "metadata": {},
     "output_type": "execute_result"
    }
   ],
   "source": [
    "np.max(population)- np.min(population)"
   ]
  },
  {
   "cell_type": "markdown",
   "metadata": {},
   "source": [
    "# Quantile"
   ]
  },
  {
   "cell_type": "code",
   "execution_count": 11,
   "metadata": {},
   "outputs": [],
   "source": [
    "q1 = np.percentile(population, 25)\n",
    "q2 = np.percentile(population,50)\n",
    "q3 = np.percentile(population,75)"
   ]
  },
  {
   "cell_type": "code",
   "execution_count": 12,
   "metadata": {},
   "outputs": [
    {
     "data": {
      "text/plain": [
       "1.4179909506961206"
      ]
     },
     "execution_count": 12,
     "metadata": {},
     "output_type": "execute_result"
    }
   ],
   "source": [
    "iqr = q3-q1\n",
    "iqr"
   ]
  },
  {
   "cell_type": "code",
   "execution_count": null,
   "metadata": {},
   "outputs": [],
   "source": []
  }
 ],
 "metadata": {
  "kernelspec": {
   "display_name": "Python 3",
   "language": "python",
   "name": "python3"
  },
  "language_info": {
   "codemirror_mode": {
    "name": "ipython",
    "version": 3
   },
   "file_extension": ".py",
   "mimetype": "text/x-python",
   "name": "python",
   "nbconvert_exporter": "python",
   "pygments_lexer": "ipython3",
   "version": "3.7.3"
  }
 },
 "nbformat": 4,
 "nbformat_minor": 2
}
